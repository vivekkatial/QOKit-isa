{
 "cells": [
  {
   "cell_type": "code",
   "execution_count": 74,
   "id": "ece610a5-4e3d-4b36-b672-0a6977f750e2",
   "metadata": {},
   "outputs": [],
   "source": [
    "import numpy as np\n",
    "import networkx as nx\n",
    "from functools import partial\n",
    "\n",
    "from qokit.qaoa_circuit_maxcut import get_qaoa_circuit\n",
    "from qokit.maxcut import maxcut_obj, get_adjacency_matrix\n",
    "from qokit.utils import brute_force, objective_from_counts, invert_counts\n",
    "from qokit.parameter_utils import get_fixed_gamma_beta\n",
    "\n",
    "# Scipy results\n",
    "from scipy.optimize import minimize\n",
    "\n",
    "from qokit.qaoa_objective_maxcut import get_qaoa_maxcut_objective\n",
    "from qokit.utils import precompute_energies"
   ]
  },
  {
   "cell_type": "code",
   "execution_count": 102,
   "id": "2f1885c5-e2a1-48bd-80b2-0cac04d2e084",
   "metadata": {},
   "outputs": [],
   "source": [
    "# Generate a random regular graph\n",
    "N = 14\n",
    "d = 3\n",
    "seed = 1\n",
    "G = nx.random_regular_graph(d, N, seed=seed)\n",
    "\n",
    "# Generate random angles\n",
    "gamma = np.random.uniform(-np.pi, np.pi, N)\n",
    "beta = np.random.uniform(-np.pi, np.pi, N)\n",
    "\n",
    "p = 11\n",
    "# Get circuit\n",
    "qc = get_qaoa_circuit(G, gamma, beta, save_statevector=False)\n",
    "qc.measure_all()\n",
    "\n",
    "# Get the optimal cut\n",
    "obj = partial(maxcut_obj, w=get_adjacency_matrix(G))\n",
    "optimal_cut = brute_force(obj, N, function_takes=\"bits\")"
   ]
  },
  {
   "cell_type": "code",
   "execution_count": 103,
   "id": "db7dad3a-0c97-4ce4-86ea-7c65b9e6f868",
   "metadata": {},
   "outputs": [],
   "source": [
    "def random_init(p):\n",
    "    gamma = np.random.uniform(-np.pi, np.pi, p)\n",
    "    beta = np.random.uniform(-np.pi, np.pi, p)\n",
    "    return np.hstack([gamma, beta])\n",
    "\n",
    "def fixed_angles_init(p):\n",
    "    gamma = np.full(p, -0.2)\n",
    "    beta = np.full(p, 0.2)\n",
    "    return np.hstack([gamma, beta])\n",
    "\n",
    "def tqa_init(p, delta_t=0.5):\n",
    "    \"\"\"\n",
    "    Initialize QAOA parameters using the TQA (Trotterized Quantum Annealing) heuristic.\n",
    "    \n",
    "    Parameters:\n",
    "        p (int): The number of QAOA layers.\n",
    "        delta_t (float): The total time parameter for the annealing schedule.\n",
    "    \n",
    "    Returns:\n",
    "        np.ndarray: The initial QAOA parameters (concatenation of gamma and beta values).\n",
    "    \"\"\"\n",
    "    # Compute gamma values based on a linear schedule\n",
    "    gamma = np.array([(i - 0.5) * delta_t / p for i in range(1, p+1)])\n",
    "    \n",
    "    # Compute beta values such that beta_i = delta_t - gamma_i\n",
    "    beta = delta_t - gamma\n",
    "    \n",
    "    return np.hstack([gamma, beta])\n",
    "\n",
    "def qibpi_init(source, p, df):\n",
    "    \"\"\"Get optimal parameters for a given source and number of layers.\"\"\"\n",
    "    # Check if the dataframe is empty\n",
    "    if df.empty:\n",
    "        return \"No data available.\"\n",
    "\n",
    "    # Allowed source values\n",
    "    allowed_sources = [\n",
    "        \"four_regular_graph\",\n",
    "        \"geometric\",\n",
    "        \"nearly_complete_bi_partite\",\n",
    "        \"power_law_tree\",\n",
    "        \"three_regular_graph\",\n",
    "        \"uniform_random\",\n",
    "        \"watts_strogatz_small_world\",\n",
    "    ]\n",
    "    # Check if the source is valid\n",
    "    if source not in allowed_sources:\n",
    "        return \"Invalid source. Please choose from the allowed values.\"\n",
    "\n",
    "    # Filter the dataframe for the specific source and number of layers\n",
    "    filtered_df = df[(df['Source'] == source) & (df['params.n_layers'] == n_layers)]\n",
    "\n",
    "    # Check if the filtered dataframe is not empty\n",
    "    if not filtered_df.empty:\n",
    "        # Initialize lists for beta and gamma values\n",
    "        beta_values = []\n",
    "        gamma_values = []\n",
    "\n",
    "        # Extract relevant beta and gamma values\n",
    "        for i in range(1, n_layers + 1):\n",
    "            beta_key = 'median_beta_' + str(i)\n",
    "            gamma_key = 'median_gamma_' + str(i)\n",
    "            beta_values.append(filtered_df.iloc[0][beta_key])\n",
    "            gamma_values.append(filtered_df.iloc[0][gamma_key])\n",
    "\n",
    "        # Creating the final result\n",
    "        params = {\n",
    "            'beta': beta_values,\n",
    "            'gamma': gamma_values,\n",
    "            'Source': source,\n",
    "            'params.n_layers': n_layers,\n",
    "        }\n",
    "        return params\n",
    "    else:\n",
    "        return \"No data available for the specified source and number of layers.\""
   ]
  },
  {
   "cell_type": "code",
   "execution_count": 104,
   "id": "5f5d8c50-5fb7-4560-b09f-0c3fbd4b8392",
   "metadata": {},
   "outputs": [
    {
     "data": {
      "text/plain": [
       "<function __main__.qibpi_init(source, p, df)>"
      ]
     },
     "execution_count": 104,
     "metadata": {},
     "output_type": "execute_result"
    }
   ],
   "source": [
    "qibpi_init"
   ]
  },
  {
   "cell_type": "code",
   "execution_count": 105,
   "id": "20fba669-38e6-4c1a-ac42-709981335a95",
   "metadata": {},
   "outputs": [
    {
     "name": "stdout",
     "output_type": "stream",
     "text": [
      "Approximation ratio before optimization: 0.5538428135534788\n"
     ]
    }
   ],
   "source": [
    "f = get_qaoa_maxcut_objective(N, p, G)\n",
    "X0 = np.hstack([np.array(gamma), beta])\n",
    "\n",
    "print(f\"Approximation ratio before optimization: {-f(X0) / optimal_cut[0]}\")"
   ]
  },
  {
   "cell_type": "code",
   "execution_count": 106,
   "id": "2ec34f34-16a1-4119-bd7f-029ca81a8764",
   "metadata": {},
   "outputs": [
    {
     "name": "stdout",
     "output_type": "stream",
     "text": [
      "At iteration 0: x = [ 2.46292408  2.46328117  0.36771006  2.87308106  2.66450493 -2.33769803\n",
      "  2.86345508  0.59200882 -1.66619515  0.47899987 -2.60399056 -2.81743625\n",
      "  1.28021925  1.64716737  1.09491863  0.33524717 -1.16375574  2.41480034\n",
      "  2.71081816  2.38933228 -1.38007499  0.72499524 -0.55864539 -1.993999\n",
      " -0.23439293 -0.25462336  0.44413191 -1.95824714]\n",
      "Objective value: 0.5545808531122812\n",
      "At iteration 100: x = [ 2.70044156  2.48206644  0.34902669  2.80837338  2.61686864 -2.49108094\n",
      "  2.77945418  0.59837943 -1.57644085  0.47934986 -2.7037469  -2.83034245\n",
      "  1.26133541  1.6698011   1.07790366  0.32016713 -1.17268369  2.42211569\n",
      "  2.85040127  2.16737939 -1.36403428  0.73105889 -0.53778062 -2.01460699\n",
      " -0.21957287 -0.25974258  0.44423148 -2.15558875]\n",
      "Objective value: 0.5622769792580401\n",
      "At iteration 200: x = [ 3.03947359  2.34649805  0.31145308  2.63324051  2.72706034 -2.50315025\n",
      "  2.73538584  0.56288917 -1.4341969   0.46488366 -2.6291996  -2.9068725\n",
      "  1.24952463  1.72734101  1.16747592  0.32021026 -1.18071519  2.42779582\n",
      "  2.97042818  2.19860692 -1.30184894  0.78791241 -0.50750293 -2.02279909\n",
      " -0.22538788 -0.25042696  0.46027766 -2.13120773]\n",
      "Objective value: 0.5784146919661958\n",
      "At iteration 300: x = [ 3.52948926  2.1903161   0.25756684  2.75174584  2.76663752 -2.63225169\n",
      "  2.76046825  0.57135908 -1.28254557  0.41973396 -2.38395551 -2.69113409\n",
      "  1.20851795  1.92970605  1.33573926  0.34747894 -1.20941623  2.42410545\n",
      "  3.19354632  2.31115973 -1.19051934  0.85630266 -0.48542066 -2.01362407\n",
      " -0.20073577 -0.2533576   0.48654217 -2.01127599]\n",
      "Objective value: 0.6421335986763264\n"
     ]
    },
    {
     "name": "stderr",
     "output_type": "stream",
     "text": [
      "\n",
      "KeyboardInterrupt\n",
      "\n"
     ]
    }
   ],
   "source": [
    "optimization_data = []\n",
    "\n",
    "def callback(xk):\n",
    "    current_value = -f(xk) / optimal_cut[0]\n",
    "    optimization_data.append({\n",
    "        'iteration': callback.iteration,\n",
    "        'parameters': xk,\n",
    "        'objective_value': current_value\n",
    "    })\n",
    "    if callback.iteration % 100 == 0:\n",
    "        print(f\"At iteration {callback.iteration}: x = {xk}\")\n",
    "        print(f\"Objective value: {current_value}\")\n",
    "    callback.iteration += 1\n",
    "callback.iteration = 0\n",
    "\n",
    "res = minimize(f, X0, method='Nelder-Mead', callback=callback)"
   ]
  },
  {
   "cell_type": "code",
   "execution_count": 107,
   "id": "4ea8be84-cbee-49e5-8dec-f41792d693fc",
   "metadata": {},
   "outputs": [
    {
     "name": "stdout",
     "output_type": "stream",
     "text": [
      "   iteration                                         parameters  \\\n",
      "0          0  [2.4629240846727045, 2.4632811692404752, 0.367...   \n",
      "1          1  [2.47682515492102, 2.477184254921454, 0.369785...   \n",
      "2          2  [2.47682515492102, 2.477184254921454, 0.369785...   \n",
      "3          3  [2.47682515492102, 2.477184254921454, 0.369785...   \n",
      "4          4  [2.47682515492102, 2.477184254921454, 0.369785...   \n",
      "\n",
      "   objective_value  \n",
      "0         0.554581  \n",
      "1         0.554836  \n",
      "2         0.554836  \n",
      "3         0.554836  \n",
      "4         0.554836  \n",
      "Approximation ratio after optimization: 0.8883168626564887\n"
     ]
    }
   ],
   "source": [
    "import pandas as pd\n",
    "# Convert the optimization data to a DataFrame\n",
    "df = pd.DataFrame(optimization_data)\n",
    "print(df.head())  # Show the first few rows of the DataFrame\n",
    "\n",
    "print(f\"Approximation ratio after optimization: {-f(res.x) / optimal_cut[0]}\")"
   ]
  },
  {
   "cell_type": "code",
   "execution_count": 108,
   "id": "2528daee-8ceb-4359-b262-49c6b12b13c3",
   "metadata": {},
   "outputs": [
    {
     "data": {
      "image/png": "[encoded data removed]",
      "text/plain": [
       "<Figure size 1000x500 with 1 Axes>"
      ]
     },
     "metadata": {},
     "output_type": "display_data"
    }
   ],
   "source": [
    "import matplotlib.pyplot as plt\n",
    "plt.figure(figsize=(10, 5))  # Set the size of the plot\n",
    "plt.plot(df['iteration'], df['objective_value'], linestyle='-')\n",
    "plt.title('Approximation Ratio')\n",
    "plt.xlabel('Iteration')\n",
    "plt.ylabel('Approx Ratio')\n",
    "plt.grid(True)  # Add a grid for easier readability\n",
    "plt.show()"
   ]
  },
  {
   "cell_type": "code",
   "execution_count": null,
   "id": "cb5c744d-064d-45f0-a65c-886e45530ae9",
   "metadata": {},
   "outputs": [],
   "source": []
  },
  {
   "cell_type": "code",
   "execution_count": null,
   "id": "0ad9a36f-9688-4ce1-ad8b-df6a0abfa0a1",
   "metadata": {},
   "outputs": [],
   "source": []
  }
 ],
 "metadata": {
  "kernelspec": {
   "display_name": "Python 3 (ipykernel)",
   "language": "python",
   "name": "python3"
  },
  "language_info": {
   "codemirror_mode": {
    "name": "ipython",
    "version": 3
   },
   "file_extension": ".py",
   "mimetype": "text/x-python",
   "name": "python",
   "nbconvert_exporter": "python",
   "pygments_lexer": "ipython3",
   "version": "3.11.9"
  }
 },
 "nbformat": 4,
 "nbformat_minor": 5
}
